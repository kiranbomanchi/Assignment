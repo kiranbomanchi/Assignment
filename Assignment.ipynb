{
 "cells": [
  {
   "cell_type": "code",
   "execution_count": 3,
   "metadata": {},
   "outputs": [],
   "source": [
    "import pandas as pd \n",
    "import datetime\n",
    "import matplotlib.pyplot as plt \n",
    "import seaborn as sns"
   ]
  },
  {
   "cell_type": "code",
   "execution_count": 4,
   "metadata": {},
   "outputs": [],
   "source": [
    "df = pd.read_excel(\"Assignment file for Data Analyst.xlsx\")"
   ]
  },
  {
   "cell_type": "code",
   "execution_count": 5,
   "metadata": {},
   "outputs": [
    {
     "data": {
      "text/html": [
       "<div>\n",
       "<style scoped>\n",
       "    .dataframe tbody tr th:only-of-type {\n",
       "        vertical-align: middle;\n",
       "    }\n",
       "\n",
       "    .dataframe tbody tr th {\n",
       "        vertical-align: top;\n",
       "    }\n",
       "\n",
       "    .dataframe thead th {\n",
       "        text-align: right;\n",
       "    }\n",
       "</style>\n",
       "<table border=\"1\" class=\"dataframe\">\n",
       "  <thead>\n",
       "    <tr style=\"text-align: right;\">\n",
       "      <th></th>\n",
       "      <th>Timestamp</th>\n",
       "      <th>Current</th>\n",
       "      <th>Total voltage</th>\n",
       "      <th>SOC</th>\n",
       "      <th>Temperature</th>\n",
       "      <th>SOH</th>\n",
       "      <th>Equivalent cycle</th>\n",
       "      <th>Application status</th>\n",
       "      <th>Grid status</th>\n",
       "      <th>Grid power</th>\n",
       "      <th>Grid energy consumption</th>\n",
       "      <th>Grid cumulative energy consumption</th>\n",
       "    </tr>\n",
       "  </thead>\n",
       "  <tbody>\n",
       "    <tr>\n",
       "      <th>0</th>\n",
       "      <td>1556701215000</td>\n",
       "      <td>0</td>\n",
       "      <td>66.72</td>\n",
       "      <td>1.0</td>\n",
       "      <td>25.229167</td>\n",
       "      <td>1.000000</td>\n",
       "      <td>0.0</td>\n",
       "      <td>1</td>\n",
       "      <td>1</td>\n",
       "      <td>0.0</td>\n",
       "      <td>0.0</td>\n",
       "      <td>0.0</td>\n",
       "    </tr>\n",
       "    <tr>\n",
       "      <th>1</th>\n",
       "      <td>1556702215000</td>\n",
       "      <td>0</td>\n",
       "      <td>66.72</td>\n",
       "      <td>1.0</td>\n",
       "      <td>25.528210</td>\n",
       "      <td>0.999774</td>\n",
       "      <td>0.0</td>\n",
       "      <td>1</td>\n",
       "      <td>1</td>\n",
       "      <td>0.0</td>\n",
       "      <td>0.0</td>\n",
       "      <td>0.0</td>\n",
       "    </tr>\n",
       "    <tr>\n",
       "      <th>2</th>\n",
       "      <td>1556703215000</td>\n",
       "      <td>0</td>\n",
       "      <td>66.72</td>\n",
       "      <td>1.0</td>\n",
       "      <td>25.859735</td>\n",
       "      <td>0.999679</td>\n",
       "      <td>0.0</td>\n",
       "      <td>1</td>\n",
       "      <td>1</td>\n",
       "      <td>0.0</td>\n",
       "      <td>0.0</td>\n",
       "      <td>0.0</td>\n",
       "    </tr>\n",
       "    <tr>\n",
       "      <th>3</th>\n",
       "      <td>1556704215000</td>\n",
       "      <td>0</td>\n",
       "      <td>66.72</td>\n",
       "      <td>1.0</td>\n",
       "      <td>26.204830</td>\n",
       "      <td>0.999606</td>\n",
       "      <td>0.0</td>\n",
       "      <td>1</td>\n",
       "      <td>1</td>\n",
       "      <td>0.0</td>\n",
       "      <td>0.0</td>\n",
       "      <td>0.0</td>\n",
       "    </tr>\n",
       "    <tr>\n",
       "      <th>4</th>\n",
       "      <td>1556705215000</td>\n",
       "      <td>0</td>\n",
       "      <td>66.72</td>\n",
       "      <td>1.0</td>\n",
       "      <td>26.553448</td>\n",
       "      <td>0.999542</td>\n",
       "      <td>0.0</td>\n",
       "      <td>1</td>\n",
       "      <td>1</td>\n",
       "      <td>0.0</td>\n",
       "      <td>0.0</td>\n",
       "      <td>0.0</td>\n",
       "    </tr>\n",
       "  </tbody>\n",
       "</table>\n",
       "</div>"
      ],
      "text/plain": [
       "       Timestamp  Current  Total voltage  SOC  Temperature       SOH  \\\n",
       "0  1556701215000        0          66.72  1.0    25.229167  1.000000   \n",
       "1  1556702215000        0          66.72  1.0    25.528210  0.999774   \n",
       "2  1556703215000        0          66.72  1.0    25.859735  0.999679   \n",
       "3  1556704215000        0          66.72  1.0    26.204830  0.999606   \n",
       "4  1556705215000        0          66.72  1.0    26.553448  0.999542   \n",
       "\n",
       "   Equivalent cycle  Application status  Grid status  Grid power  \\\n",
       "0               0.0                   1            1         0.0   \n",
       "1               0.0                   1            1         0.0   \n",
       "2               0.0                   1            1         0.0   \n",
       "3               0.0                   1            1         0.0   \n",
       "4               0.0                   1            1         0.0   \n",
       "\n",
       "   Grid energy consumption  Grid cumulative energy consumption  \n",
       "0                      0.0                                 0.0  \n",
       "1                      0.0                                 0.0  \n",
       "2                      0.0                                 0.0  \n",
       "3                      0.0                                 0.0  \n",
       "4                      0.0                                 0.0  "
      ]
     },
     "execution_count": 5,
     "metadata": {},
     "output_type": "execute_result"
    }
   ],
   "source": [
    "df.head()"
   ]
  },
  {
   "cell_type": "code",
   "execution_count": 6,
   "metadata": {},
   "outputs": [],
   "source": [
    "df['Timestamp'] = pd.to_datetime(df['Timestamp'],unit = 'ms')"
   ]
  },
  {
   "cell_type": "code",
   "execution_count": 7,
   "metadata": {},
   "outputs": [
    {
     "data": {
      "text/html": [
       "<div>\n",
       "<style scoped>\n",
       "    .dataframe tbody tr th:only-of-type {\n",
       "        vertical-align: middle;\n",
       "    }\n",
       "\n",
       "    .dataframe tbody tr th {\n",
       "        vertical-align: top;\n",
       "    }\n",
       "\n",
       "    .dataframe thead th {\n",
       "        text-align: right;\n",
       "    }\n",
       "</style>\n",
       "<table border=\"1\" class=\"dataframe\">\n",
       "  <thead>\n",
       "    <tr style=\"text-align: right;\">\n",
       "      <th></th>\n",
       "      <th>Timestamp</th>\n",
       "      <th>Current</th>\n",
       "      <th>Total voltage</th>\n",
       "      <th>SOC</th>\n",
       "      <th>Temperature</th>\n",
       "      <th>SOH</th>\n",
       "      <th>Equivalent cycle</th>\n",
       "      <th>Application status</th>\n",
       "      <th>Grid status</th>\n",
       "      <th>Grid power</th>\n",
       "      <th>Grid energy consumption</th>\n",
       "      <th>Grid cumulative energy consumption</th>\n",
       "    </tr>\n",
       "  </thead>\n",
       "  <tbody>\n",
       "    <tr>\n",
       "      <th>0</th>\n",
       "      <td>2019-05-01 09:00:15</td>\n",
       "      <td>0</td>\n",
       "      <td>66.72</td>\n",
       "      <td>1.0</td>\n",
       "      <td>25.229167</td>\n",
       "      <td>1.000000</td>\n",
       "      <td>0.0</td>\n",
       "      <td>1</td>\n",
       "      <td>1</td>\n",
       "      <td>0.0</td>\n",
       "      <td>0.0</td>\n",
       "      <td>0.0</td>\n",
       "    </tr>\n",
       "    <tr>\n",
       "      <th>1</th>\n",
       "      <td>2019-05-01 09:16:55</td>\n",
       "      <td>0</td>\n",
       "      <td>66.72</td>\n",
       "      <td>1.0</td>\n",
       "      <td>25.528210</td>\n",
       "      <td>0.999774</td>\n",
       "      <td>0.0</td>\n",
       "      <td>1</td>\n",
       "      <td>1</td>\n",
       "      <td>0.0</td>\n",
       "      <td>0.0</td>\n",
       "      <td>0.0</td>\n",
       "    </tr>\n",
       "    <tr>\n",
       "      <th>2</th>\n",
       "      <td>2019-05-01 09:33:35</td>\n",
       "      <td>0</td>\n",
       "      <td>66.72</td>\n",
       "      <td>1.0</td>\n",
       "      <td>25.859735</td>\n",
       "      <td>0.999679</td>\n",
       "      <td>0.0</td>\n",
       "      <td>1</td>\n",
       "      <td>1</td>\n",
       "      <td>0.0</td>\n",
       "      <td>0.0</td>\n",
       "      <td>0.0</td>\n",
       "    </tr>\n",
       "    <tr>\n",
       "      <th>3</th>\n",
       "      <td>2019-05-01 09:50:15</td>\n",
       "      <td>0</td>\n",
       "      <td>66.72</td>\n",
       "      <td>1.0</td>\n",
       "      <td>26.204830</td>\n",
       "      <td>0.999606</td>\n",
       "      <td>0.0</td>\n",
       "      <td>1</td>\n",
       "      <td>1</td>\n",
       "      <td>0.0</td>\n",
       "      <td>0.0</td>\n",
       "      <td>0.0</td>\n",
       "    </tr>\n",
       "    <tr>\n",
       "      <th>4</th>\n",
       "      <td>2019-05-01 10:06:55</td>\n",
       "      <td>0</td>\n",
       "      <td>66.72</td>\n",
       "      <td>1.0</td>\n",
       "      <td>26.553448</td>\n",
       "      <td>0.999542</td>\n",
       "      <td>0.0</td>\n",
       "      <td>1</td>\n",
       "      <td>1</td>\n",
       "      <td>0.0</td>\n",
       "      <td>0.0</td>\n",
       "      <td>0.0</td>\n",
       "    </tr>\n",
       "  </tbody>\n",
       "</table>\n",
       "</div>"
      ],
      "text/plain": [
       "            Timestamp  Current  Total voltage  SOC  Temperature       SOH  \\\n",
       "0 2019-05-01 09:00:15        0          66.72  1.0    25.229167  1.000000   \n",
       "1 2019-05-01 09:16:55        0          66.72  1.0    25.528210  0.999774   \n",
       "2 2019-05-01 09:33:35        0          66.72  1.0    25.859735  0.999679   \n",
       "3 2019-05-01 09:50:15        0          66.72  1.0    26.204830  0.999606   \n",
       "4 2019-05-01 10:06:55        0          66.72  1.0    26.553448  0.999542   \n",
       "\n",
       "   Equivalent cycle  Application status  Grid status  Grid power  \\\n",
       "0               0.0                   1            1         0.0   \n",
       "1               0.0                   1            1         0.0   \n",
       "2               0.0                   1            1         0.0   \n",
       "3               0.0                   1            1         0.0   \n",
       "4               0.0                   1            1         0.0   \n",
       "\n",
       "   Grid energy consumption  Grid cumulative energy consumption  \n",
       "0                      0.0                                 0.0  \n",
       "1                      0.0                                 0.0  \n",
       "2                      0.0                                 0.0  \n",
       "3                      0.0                                 0.0  \n",
       "4                      0.0                                 0.0  "
      ]
     },
     "execution_count": 7,
     "metadata": {},
     "output_type": "execute_result"
    }
   ],
   "source": [
    "df.head()"
   ]
  },
  {
   "cell_type": "code",
   "execution_count": 33,
   "metadata": {},
   "outputs": [
    {
     "data": {
      "text/plain": [
       "0.22794666128547825"
      ]
     },
     "execution_count": 33,
     "metadata": {},
     "output_type": "execute_result"
    }
   ],
   "source": [
    "df['SOC'].corr(df['Grid status'])"
   ]
  },
  {
   "cell_type": "code",
   "execution_count": 21,
   "metadata": {},
   "outputs": [
    {
     "data": {
      "text/plain": [
       "Text(0, 0.5, 'Grid status')"
      ]
     },
     "execution_count": 21,
     "metadata": {},
     "output_type": "execute_result"
    },
    {
     "data": {
      "image/png": "[encoded data removed]",
      "text/plain": [
       "<Figure size 432x288 with 1 Axes>"
      ]
     },
     "metadata": {
      "needs_background": "light"
     },
     "output_type": "display_data"
    }
   ],
   "source": [
    "plt.scatter(df['SOC'],df['Grid status'])\n",
    "plt.title('SOH vs Grid status')\n",
    "plt.xlabel('SOC')\n",
    "plt.ylabel('Grid status')\n"
   ]
  },
  {
   "cell_type": "code",
   "execution_count": 9,
   "metadata": {},
   "outputs": [
    {
     "data": {
      "text/plain": [
       "-0.9842624478536395"
      ]
     },
     "execution_count": 9,
     "metadata": {},
     "output_type": "execute_result"
    }
   ],
   "source": [
    "df['Equivalent cycle'].corr(df['SOH'])"
   ]
  },
  {
   "cell_type": "code",
   "execution_count": 22,
   "metadata": {},
   "outputs": [
    {
     "data": {
      "text/plain": [
       "Text(0.5, 1.0, 'Equivalent cycle vs SOH')"
      ]
     },
     "execution_count": 22,
     "metadata": {},
     "output_type": "execute_result"
    },
    {
     "data": {
      "image/png": "[encoded data removed]",
      "text/plain": [
       "<Figure size 432x288 with 1 Axes>"
      ]
     },
     "metadata": {
      "needs_background": "light"
     },
     "output_type": "display_data"
    }
   ],
   "source": [
    "plt.scatter(df['Equivalent cycle'],df['SOH'])\n",
    "plt.xlabel('Equivalent cycle')\n",
    "plt.ylabel('SOH')\n",
    "plt.title('Equivalent cycle vs SOH')"
   ]
  },
  {
   "cell_type": "code",
   "execution_count": 10,
   "metadata": {},
   "outputs": [
    {
     "data": {
      "text/plain": [
       "-0.36904035326610635"
      ]
     },
     "execution_count": 10,
     "metadata": {},
     "output_type": "execute_result"
    }
   ],
   "source": [
    "df['SOC'].corr(df['Temperature'])"
   ]
  },
  {
   "cell_type": "code",
   "execution_count": 23,
   "metadata": {},
   "outputs": [
    {
     "data": {
      "text/plain": [
       "Text(0, 0.5, 'Temperature')"
      ]
     },
     "execution_count": 23,
     "metadata": {},
     "output_type": "execute_result"
    },
    {
     "data": {
      "image/png": "[encoded data removed]",
      "text/plain": [
       "<Figure size 432x288 with 1 Axes>"
      ]
     },
     "metadata": {
      "needs_background": "light"
     },
     "output_type": "display_data"
    }
   ],
   "source": [
    "plt.scatter(df['SOC'],df['Temperature'])\n",
    "plt.title('SOC vs Temperature')\n",
    "plt.xlabel('SOC')\n",
    "plt.ylabel('Temperature')"
   ]
  },
  {
   "cell_type": "code",
   "execution_count": 31,
   "metadata": {},
   "outputs": [
    {
     "data": {
      "text/html": [
       "<div>\n",
       "<style scoped>\n",
       "    .dataframe tbody tr th:only-of-type {\n",
       "        vertical-align: middle;\n",
       "    }\n",
       "\n",
       "    .dataframe tbody tr th {\n",
       "        vertical-align: top;\n",
       "    }\n",
       "\n",
       "    .dataframe thead th {\n",
       "        text-align: right;\n",
       "    }\n",
       "</style>\n",
       "<table border=\"1\" class=\"dataframe\">\n",
       "  <thead>\n",
       "    <tr style=\"text-align: right;\">\n",
       "      <th></th>\n",
       "      <th>Current</th>\n",
       "      <th>Total voltage</th>\n",
       "      <th>SOC</th>\n",
       "      <th>Temperature</th>\n",
       "      <th>SOH</th>\n",
       "      <th>Equivalent cycle</th>\n",
       "      <th>Application status</th>\n",
       "      <th>Grid status</th>\n",
       "      <th>Grid power</th>\n",
       "      <th>Grid energy consumption</th>\n",
       "      <th>Grid cumulative energy consumption</th>\n",
       "    </tr>\n",
       "  </thead>\n",
       "  <tbody>\n",
       "    <tr>\n",
       "      <th>Current</th>\n",
       "      <td>1.000000e+00</td>\n",
       "      <td>0.078020</td>\n",
       "      <td>0.120857</td>\n",
       "      <td>-0.818921</td>\n",
       "      <td>-0.000564</td>\n",
       "      <td>0.000640</td>\n",
       "      <td>-6.594991e-07</td>\n",
       "      <td>0.988289</td>\n",
       "      <td>0.223321</td>\n",
       "      <td>0.223321</td>\n",
       "      <td>0.000884</td>\n",
       "    </tr>\n",
       "    <tr>\n",
       "      <th>Total voltage</th>\n",
       "      <td>7.802047e-02</td>\n",
       "      <td>1.000000</td>\n",
       "      <td>0.996240</td>\n",
       "      <td>-0.326546</td>\n",
       "      <td>0.054130</td>\n",
       "      <td>-0.053510</td>\n",
       "      <td>4.762158e-02</td>\n",
       "      <td>0.184622</td>\n",
       "      <td>-0.666429</td>\n",
       "      <td>-0.666429</td>\n",
       "      <td>-0.051234</td>\n",
       "    </tr>\n",
       "    <tr>\n",
       "      <th>SOC</th>\n",
       "      <td>1.208567e-01</td>\n",
       "      <td>0.996240</td>\n",
       "      <td>1.000000</td>\n",
       "      <td>-0.369040</td>\n",
       "      <td>0.054005</td>\n",
       "      <td>-0.053320</td>\n",
       "      <td>3.531014e-02</td>\n",
       "      <td>0.227947</td>\n",
       "      <td>-0.668910</td>\n",
       "      <td>-0.668910</td>\n",
       "      <td>-0.051038</td>\n",
       "    </tr>\n",
       "    <tr>\n",
       "      <th>Temperature</th>\n",
       "      <td>-8.189212e-01</td>\n",
       "      <td>-0.326546</td>\n",
       "      <td>-0.369040</td>\n",
       "      <td>1.000000</td>\n",
       "      <td>0.003684</td>\n",
       "      <td>-0.004896</td>\n",
       "      <td>1.668334e-03</td>\n",
       "      <td>-0.845026</td>\n",
       "      <td>0.054698</td>\n",
       "      <td>0.054698</td>\n",
       "      <td>-0.005666</td>\n",
       "    </tr>\n",
       "    <tr>\n",
       "      <th>SOH</th>\n",
       "      <td>-5.643790e-04</td>\n",
       "      <td>0.054130</td>\n",
       "      <td>0.054005</td>\n",
       "      <td>0.003684</td>\n",
       "      <td>1.000000</td>\n",
       "      <td>-0.984262</td>\n",
       "      <td>6.455398e-03</td>\n",
       "      <td>0.003190</td>\n",
       "      <td>-0.021221</td>\n",
       "      <td>-0.021221</td>\n",
       "      <td>-0.985855</td>\n",
       "    </tr>\n",
       "    <tr>\n",
       "      <th>Equivalent cycle</th>\n",
       "      <td>6.402455e-04</td>\n",
       "      <td>-0.053510</td>\n",
       "      <td>-0.053320</td>\n",
       "      <td>-0.004896</td>\n",
       "      <td>-0.984262</td>\n",
       "      <td>1.000000</td>\n",
       "      <td>-7.205035e-03</td>\n",
       "      <td>-0.002752</td>\n",
       "      <td>0.018367</td>\n",
       "      <td>0.018367</td>\n",
       "      <td>0.999942</td>\n",
       "    </tr>\n",
       "    <tr>\n",
       "      <th>Application status</th>\n",
       "      <td>-6.594991e-07</td>\n",
       "      <td>0.047622</td>\n",
       "      <td>0.035310</td>\n",
       "      <td>0.001668</td>\n",
       "      <td>0.006455</td>\n",
       "      <td>-0.007205</td>\n",
       "      <td>1.000000e+00</td>\n",
       "      <td>0.051749</td>\n",
       "      <td>0.004199</td>\n",
       "      <td>0.004199</td>\n",
       "      <td>-0.007083</td>\n",
       "    </tr>\n",
       "    <tr>\n",
       "      <th>Grid status</th>\n",
       "      <td>9.882892e-01</td>\n",
       "      <td>0.184622</td>\n",
       "      <td>0.227947</td>\n",
       "      <td>-0.845026</td>\n",
       "      <td>0.003190</td>\n",
       "      <td>-0.002752</td>\n",
       "      <td>5.174904e-02</td>\n",
       "      <td>1.000000</td>\n",
       "      <td>0.081135</td>\n",
       "      <td>0.081135</td>\n",
       "      <td>-0.002278</td>\n",
       "    </tr>\n",
       "    <tr>\n",
       "      <th>Grid power</th>\n",
       "      <td>2.233209e-01</td>\n",
       "      <td>-0.666429</td>\n",
       "      <td>-0.668910</td>\n",
       "      <td>0.054698</td>\n",
       "      <td>-0.021221</td>\n",
       "      <td>0.018367</td>\n",
       "      <td>4.198656e-03</td>\n",
       "      <td>0.081135</td>\n",
       "      <td>1.000000</td>\n",
       "      <td>1.000000</td>\n",
       "      <td>0.016952</td>\n",
       "    </tr>\n",
       "    <tr>\n",
       "      <th>Grid energy consumption</th>\n",
       "      <td>2.233209e-01</td>\n",
       "      <td>-0.666429</td>\n",
       "      <td>-0.668910</td>\n",
       "      <td>0.054698</td>\n",
       "      <td>-0.021221</td>\n",
       "      <td>0.018367</td>\n",
       "      <td>4.198656e-03</td>\n",
       "      <td>0.081135</td>\n",
       "      <td>1.000000</td>\n",
       "      <td>1.000000</td>\n",
       "      <td>0.016952</td>\n",
       "    </tr>\n",
       "    <tr>\n",
       "      <th>Grid cumulative energy consumption</th>\n",
       "      <td>8.838689e-04</td>\n",
       "      <td>-0.051234</td>\n",
       "      <td>-0.051038</td>\n",
       "      <td>-0.005666</td>\n",
       "      <td>-0.985855</td>\n",
       "      <td>0.999942</td>\n",
       "      <td>-7.083047e-03</td>\n",
       "      <td>-0.002278</td>\n",
       "      <td>0.016952</td>\n",
       "      <td>0.016952</td>\n",
       "      <td>1.000000</td>\n",
       "    </tr>\n",
       "  </tbody>\n",
       "</table>\n",
       "</div>"
      ],
      "text/plain": [
       "                                         Current  Total voltage       SOC  \\\n",
       "Current                             1.000000e+00       0.078020  0.120857   \n",
       "Total voltage                       7.802047e-02       1.000000  0.996240   \n",
       "SOC                                 1.208567e-01       0.996240  1.000000   \n",
       "Temperature                        -8.189212e-01      -0.326546 -0.369040   \n",
       "SOH                                -5.643790e-04       0.054130  0.054005   \n",
       "Equivalent cycle                    6.402455e-04      -0.053510 -0.053320   \n",
       "Application status                 -6.594991e-07       0.047622  0.035310   \n",
       "Grid status                         9.882892e-01       0.184622  0.227947   \n",
       "Grid power                          2.233209e-01      -0.666429 -0.668910   \n",
       "Grid energy consumption             2.233209e-01      -0.666429 -0.668910   \n",
       "Grid cumulative energy consumption  8.838689e-04      -0.051234 -0.051038   \n",
       "\n",
       "                                    Temperature       SOH  Equivalent cycle  \\\n",
       "Current                               -0.818921 -0.000564          0.000640   \n",
       "Total voltage                         -0.326546  0.054130         -0.053510   \n",
       "SOC                                   -0.369040  0.054005         -0.053320   \n",
       "Temperature                            1.000000  0.003684         -0.004896   \n",
       "SOH                                    0.003684  1.000000         -0.984262   \n",
       "Equivalent cycle                      -0.004896 -0.984262          1.000000   \n",
       "Application status                     0.001668  0.006455         -0.007205   \n",
       "Grid status                           -0.845026  0.003190         -0.002752   \n",
       "Grid power                             0.054698 -0.021221          0.018367   \n",
       "Grid energy consumption                0.054698 -0.021221          0.018367   \n",
       "Grid cumulative energy consumption    -0.005666 -0.985855          0.999942   \n",
       "\n",
       "                                    Application status  Grid status  \\\n",
       "Current                                  -6.594991e-07     0.988289   \n",
       "Total voltage                             4.762158e-02     0.184622   \n",
       "SOC                                       3.531014e-02     0.227947   \n",
       "Temperature                               1.668334e-03    -0.845026   \n",
       "SOH                                       6.455398e-03     0.003190   \n",
       "Equivalent cycle                         -7.205035e-03    -0.002752   \n",
       "Application status                        1.000000e+00     0.051749   \n",
       "Grid status                               5.174904e-02     1.000000   \n",
       "Grid power                                4.198656e-03     0.081135   \n",
       "Grid energy consumption                   4.198656e-03     0.081135   \n",
       "Grid cumulative energy consumption       -7.083047e-03    -0.002278   \n",
       "\n",
       "                                    Grid power  Grid energy consumption  \\\n",
       "Current                               0.223321                 0.223321   \n",
       "Total voltage                        -0.666429                -0.666429   \n",
       "SOC                                  -0.668910                -0.668910   \n",
       "Temperature                           0.054698                 0.054698   \n",
       "SOH                                  -0.021221                -0.021221   \n",
       "Equivalent cycle                      0.018367                 0.018367   \n",
       "Application status                    0.004199                 0.004199   \n",
       "Grid status                           0.081135                 0.081135   \n",
       "Grid power                            1.000000                 1.000000   \n",
       "Grid energy consumption               1.000000                 1.000000   \n",
       "Grid cumulative energy consumption    0.016952                 0.016952   \n",
       "\n",
       "                                    Grid cumulative energy consumption  \n",
       "Current                                                       0.000884  \n",
       "Total voltage                                                -0.051234  \n",
       "SOC                                                          -0.051038  \n",
       "Temperature                                                  -0.005666  \n",
       "SOH                                                          -0.985855  \n",
       "Equivalent cycle                                              0.999942  \n",
       "Application status                                           -0.007083  \n",
       "Grid status                                                  -0.002278  \n",
       "Grid power                                                    0.016952  \n",
       "Grid energy consumption                                       0.016952  \n",
       "Grid cumulative energy consumption                            1.000000  "
      ]
     },
     "execution_count": 31,
     "metadata": {},
     "output_type": "execute_result"
    }
   ],
   "source": [
    "df.corr()\n"
   ]
  },
  {
   "cell_type": "code",
   "execution_count": 29,
   "metadata": {},
   "outputs": [
    {
     "data": {
      "text/plain": [
       "Text(0.5, 1.0, 'Correlation plot')"
      ]
     },
     "execution_count": 29,
     "metadata": {},
     "output_type": "execute_result"
    },
    {
     "data": {
      "image/png": "[encoded data removed]",
      "text/plain": [
       "<Figure size 864x720 with 2 Axes>"
      ]
     },
     "metadata": {
      "needs_background": "light"
     },
     "output_type": "display_data"
    }
   ],
   "source": [
    "correl = df.corr(method= 'spearman')\n",
    "f, ax = plt.subplots(figsize=(12, 10))\n",
    "sns.heatmap(correl, ax=ax, cmap=\"YlGnBu\", linewidths=0.1)\n",
    "plt.title('Correlation plot')\n",
    "\n"
   ]
  }
 ],
 "metadata": {
  "kernelspec": {
   "display_name": "Python 3",
   "language": "python",
   "name": "python3"
  },
  "language_info": {
   "codemirror_mode": {
    "name": "ipython",
    "version": 3
   },
   "file_extension": ".py",
   "mimetype": "text/x-python",
   "name": "python",
   "nbconvert_exporter": "python",
   "pygments_lexer": "ipython3",
   "version": "3.7.3"
  }
 },
 "nbformat": 4,
 "nbformat_minor": 2
}
